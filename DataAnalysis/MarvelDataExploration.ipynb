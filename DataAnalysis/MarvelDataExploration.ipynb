{
 "cells": [
  {
   "cell_type": "code",
   "execution_count": 1,
   "metadata": {},
   "outputs": [],
   "source": [
    "import pandas as pd\n",
    "import json\n",
    "import pyarrow\n",
    "import sqlalchemy\n",
    "import psycopg2\n",
    "import numpy as np"
   ]
  },
  {
   "cell_type": "markdown",
   "metadata": {},
   "source": [
    "# Import data and clean"
   ]
  },
  {
   "cell_type": "code",
   "execution_count": 2,
   "metadata": {},
   "outputs": [],
   "source": [
    "characters = pd.read_csv(\"../Data/characters.csv\")\n",
    "charactersToComics = pd.read_csv(\"../Data/charactersToComics.csv\")\n",
    "charactersStats = pd.read_csv(\"../Data/charcters_stats.csv\")\n",
    "comics = pd.read_csv(\"../Data/comics.csv\")\n",
    "marvelCharactersInfo = pd.read_csv(\"../Data/marvel_characters_info.csv\")\n",
    "superheroesPowerMatrix = pd.read_csv(\"../Data/superheroes_power_matrix.csv\")\n",
    "marvelDCCharactersCsv = pd.read_csv(\"../Data/marvel_dc_characters.csv\", encoding = \"ISO-8859-1\")\n",
    "marvelDCCharactersXl = pd.read_excel(\"../Data/marvel_dc_characters.xlsx\")"
   ]
  },
  {
   "cell_type": "code",
   "execution_count": 3,
   "metadata": {},
   "outputs": [],
   "source": [
    "#as many joins are on name, refactor this to make it cleaner and more reliable\n",
    "charactersStats.rename(columns={\"Name\": \"name\"}, inplace = True)\n",
    "superheroesPowerMatrix.rename(columns={\"Name\": \"name\"}, inplace = True)\n",
    "marvelCharactersInfo.rename(columns={\"Name\": \"name\"}, inplace = True)\n",
    "\n",
    "characters['name'] = characters['name'].str.lower()\n",
    "charactersStats['name'] = charactersStats['name'].str.lower()\n",
    "superheroesPowerMatrix['name'] = superheroesPowerMatrix['name'].str.lower()\n",
    "marvelCharactersInfo['name'] = marvelCharactersInfo['name'].str.lower()"
   ]
  },
  {
   "cell_type": "code",
   "execution_count": 4,
   "metadata": {},
   "outputs": [],
   "source": [
    "#drop duplicates\n",
    "characters = characters.drop_duplicates()\n",
    "charactersStats = charactersStats.drop_duplicates()\n",
    "superheroesPowerMatrix = superheroesPowerMatrix.drop_duplicates()\n",
    "marvelCharactersInfo = marvelCharactersInfo.drop_duplicates()\n",
    "comics = comics.drop_duplicates()\n",
    "charactersToComics = charactersToComics.drop_duplicates()"
   ]
  },
  {
   "cell_type": "code",
   "execution_count": 5,
   "metadata": {},
   "outputs": [],
   "source": [
    "#comics data has some missing descriptions which cannot be loaded as JSON into database, so these are converted to none so they are vlaid json\n",
    "comics = comics.where(pd.notnull(comics), None)"
   ]
  },
  {
   "cell_type": "markdown",
   "metadata": {},
   "source": [
    "## Duplicate superheroes review"
   ]
  },
  {
   "cell_type": "code",
   "execution_count": 6,
   "metadata": {},
   "outputs": [],
   "source": [
    "#Clean up columns before join\n",
    "#This id column is not required as the characterID from the characters table is being used as the ID\n",
    "marvelCharactersInfoCleaned = \\\n",
    "    marvelCharactersInfo.drop(columns='ID') \\\n",
    "    .rename(columns= {\"Alignment\": \"Alignment_MarvelCharactersInfo\"})\n",
    "    \n",
    "\n",
    "#Rename columns that are duplicated in other dataframes\n",
    "charactersStatsCleaned = charactersStats.rename(columns= \\\n",
    "                       {\"Alignment\": \"Alignment_CharactersStats\",\n",
    "                        \"Intelligence\": \"Intelligence_CharactersStats\",\n",
    "                        \"Durability\": \"Durability_CharactersStats\"\n",
    "                       })\n",
    "\n",
    "superHeroesPowerMatrixCleaned = superheroesPowerMatrix.rename(columns= \\\n",
    "                       {\"Intelligence\": \"Intelligence_SuperHeroesPowerMatrix\",\n",
    "                        \"Durability\": \"Durability_superHeroesPowerMatrix\"\n",
    "                       })\n"
   ]
  },
  {
   "cell_type": "code",
   "execution_count": 7,
   "metadata": {},
   "outputs": [
    {
     "data": {
      "text/html": [
       "<div>\n",
       "<style scoped>\n",
       "    .dataframe tbody tr th:only-of-type {\n",
       "        vertical-align: middle;\n",
       "    }\n",
       "\n",
       "    .dataframe tbody tr th {\n",
       "        vertical-align: top;\n",
       "    }\n",
       "\n",
       "    .dataframe thead th {\n",
       "        text-align: right;\n",
       "    }\n",
       "</style>\n",
       "<table border=\"1\" class=\"dataframe\">\n",
       "  <thead>\n",
       "    <tr style=\"text-align: right;\">\n",
       "      <th></th>\n",
       "      <th>name</th>\n",
       "      <th>Alignment_CharactersStats</th>\n",
       "      <th>Intelligence_CharactersStats</th>\n",
       "      <th>Strength</th>\n",
       "      <th>Speed</th>\n",
       "      <th>Durability_CharactersStats</th>\n",
       "      <th>Power</th>\n",
       "      <th>Combat</th>\n",
       "      <th>Total</th>\n",
       "    </tr>\n",
       "  </thead>\n",
       "  <tbody>\n",
       "    <tr>\n",
       "      <th>417</th>\n",
       "      <td>nova</td>\n",
       "      <td>good</td>\n",
       "      <td>100</td>\n",
       "      <td>85</td>\n",
       "      <td>67</td>\n",
       "      <td>101</td>\n",
       "      <td>100</td>\n",
       "      <td>85</td>\n",
       "      <td>538</td>\n",
       "    </tr>\n",
       "    <tr>\n",
       "      <th>418</th>\n",
       "      <td>nova</td>\n",
       "      <td>good</td>\n",
       "      <td>38</td>\n",
       "      <td>60</td>\n",
       "      <td>100</td>\n",
       "      <td>100</td>\n",
       "      <td>100</td>\n",
       "      <td>25</td>\n",
       "      <td>423</td>\n",
       "    </tr>\n",
       "  </tbody>\n",
       "</table>\n",
       "</div>"
      ],
      "text/plain": [
       "     name Alignment_CharactersStats  Intelligence_CharactersStats  Strength  \\\n",
       "417  nova                      good                           100        85   \n",
       "418  nova                      good                            38        60   \n",
       "\n",
       "     Speed  Durability_CharactersStats  Power  Combat  Total  \n",
       "417     67                         101    100      85    538  \n",
       "418    100                         100    100      25    423  "
      ]
     },
     "execution_count": 7,
     "metadata": {},
     "output_type": "execute_result"
    }
   ],
   "source": [
    "# character stats contains an additional record for 'Nova'\n",
    "characterstatsdupe = charactersStatsCleaned.groupby('name').size().sort_values(ascending=False)\n",
    "charactersStatsCleaned[charactersStatsCleaned['name']=='nova']"
   ]
  },
  {
   "cell_type": "code",
   "execution_count": 8,
   "metadata": {},
   "outputs": [
    {
     "data": {
      "text/plain": [
       "name\n",
       "zoom                         1\n",
       "faora                        1\n",
       "falcon                       1\n",
       "fabian cortez                1\n",
       "exodus                       1\n",
       "                            ..\n",
       "negasonic teenage warhead    1\n",
       "nebula                       1\n",
       "nathan petrelli              1\n",
       "naruto uzumaki               1\n",
       "3-d man                      1\n",
       "Length: 667, dtype: int64"
      ]
     },
     "execution_count": 8,
     "metadata": {},
     "output_type": "execute_result"
    }
   ],
   "source": [
    "# super hero power matrix does not contain duplicates\n",
    "superHeroesPowerMatrixCleaneddupe = superHeroesPowerMatrixCleaned.groupby('name').size().sort_values(ascending=False)\n",
    "superHeroesPowerMatrixCleaneddupe"
   ]
  },
  {
   "cell_type": "code",
   "execution_count": 9,
   "metadata": {},
   "outputs": [
    {
     "data": {
      "text/html": [
       "<div>\n",
       "<style scoped>\n",
       "    .dataframe tbody tr th:only-of-type {\n",
       "        vertical-align: middle;\n",
       "    }\n",
       "\n",
       "    .dataframe tbody tr th {\n",
       "        vertical-align: top;\n",
       "    }\n",
       "\n",
       "    .dataframe thead th {\n",
       "        text-align: right;\n",
       "    }\n",
       "</style>\n",
       "<table border=\"1\" class=\"dataframe\">\n",
       "  <thead>\n",
       "    <tr style=\"text-align: right;\">\n",
       "      <th></th>\n",
       "      <th>name</th>\n",
       "      <th>duplicates</th>\n",
       "    </tr>\n",
       "  </thead>\n",
       "  <tbody>\n",
       "    <tr>\n",
       "      <th>0</th>\n",
       "      <td>goliath</td>\n",
       "      <td>3</td>\n",
       "    </tr>\n",
       "    <tr>\n",
       "      <th>1</th>\n",
       "      <td>spider-man</td>\n",
       "      <td>3</td>\n",
       "    </tr>\n",
       "    <tr>\n",
       "      <th>2</th>\n",
       "      <td>atlas</td>\n",
       "      <td>2</td>\n",
       "    </tr>\n",
       "    <tr>\n",
       "      <th>3</th>\n",
       "      <td>atom</td>\n",
       "      <td>2</td>\n",
       "    </tr>\n",
       "    <tr>\n",
       "      <th>4</th>\n",
       "      <td>nova</td>\n",
       "      <td>2</td>\n",
       "    </tr>\n",
       "    <tr>\n",
       "      <th>...</th>\n",
       "      <td>...</td>\n",
       "      <td>...</td>\n",
       "    </tr>\n",
       "    <tr>\n",
       "      <th>710</th>\n",
       "      <td>namorita</td>\n",
       "      <td>1</td>\n",
       "    </tr>\n",
       "    <tr>\n",
       "      <th>711</th>\n",
       "      <td>namora</td>\n",
       "      <td>1</td>\n",
       "    </tr>\n",
       "    <tr>\n",
       "      <th>712</th>\n",
       "      <td>mystique</td>\n",
       "      <td>1</td>\n",
       "    </tr>\n",
       "    <tr>\n",
       "      <th>713</th>\n",
       "      <td>mysterio</td>\n",
       "      <td>1</td>\n",
       "    </tr>\n",
       "    <tr>\n",
       "      <th>714</th>\n",
       "      <td>a-bomb</td>\n",
       "      <td>1</td>\n",
       "    </tr>\n",
       "  </tbody>\n",
       "</table>\n",
       "<p>715 rows × 2 columns</p>\n",
       "</div>"
      ],
      "text/plain": [
       "           name  duplicates\n",
       "0       goliath           3\n",
       "1    spider-man           3\n",
       "2         atlas           2\n",
       "3          atom           2\n",
       "4          nova           2\n",
       "..          ...         ...\n",
       "710    namorita           1\n",
       "711      namora           1\n",
       "712    mystique           1\n",
       "713    mysterio           1\n",
       "714      a-bomb           1\n",
       "\n",
       "[715 rows x 2 columns]"
      ]
     },
     "execution_count": 9,
     "metadata": {},
     "output_type": "execute_result"
    }
   ],
   "source": [
    " # marvel characters info contains extra records for several characters\n",
    "marvelCharactersInfoCleanedDupes = marvelCharactersInfoCleaned.groupby('name').size().sort_values(ascending=False).to_frame('duplicates').reset_index()\n",
    "marvelCharactersInfoCleanedDupes"
   ]
  },
  {
   "cell_type": "markdown",
   "metadata": {},
   "source": [
    "## Review of marvelDCCharacters excel vs csv files"
   ]
  },
  {
   "cell_type": "code",
   "execution_count": 10,
   "metadata": {},
   "outputs": [
    {
     "data": {
      "text/plain": [
       "_merge\n",
       "left_only         0\n",
       "right_only        0\n",
       "both          39648\n",
       "dtype: int64"
      ]
     },
     "execution_count": 10,
     "metadata": {},
     "output_type": "execute_result"
    }
   ],
   "source": [
    "\"\"\"\n",
    "the marvel_dc_characters file is available in csv and excel. \n",
    "The immediately obvious difference between these files is the FirstAppearance column which appears clean in the excel version but not in the csv\n",
    "Review these to check if the rest of the data is the same.\n",
    "We will do this by joining on every column except first appearance and seeing if there are any records which do not tally.\n",
    "\"\"\"\n",
    "#get list of all columns except first appearance\n",
    "joinlist = marvelDCCharactersCsv.columns.tolist()\n",
    "joinlist.remove(\"FirstAppearance\")\n",
    "\n",
    "#join csv and excel version together\n",
    "marvelDCCharactersXLvsCSV = pd.merge(marvelDCCharactersCsv, marvelDCCharactersXl, on=joinlist, how='outer', indicator=True)\n",
    "marvelDCCharactersXLvsCSV.groupby([\"_merge\"]).size()\n",
    "\n",
    "#When joining on all columns except first appearance, the files perfectly join, so the excel version will be used from this point"
   ]
  },
  {
   "cell_type": "markdown",
   "metadata": {},
   "source": [
    "# Review of relationships between all files"
   ]
  },
  {
   "cell_type": "code",
   "execution_count": 12,
   "metadata": {
    "scrolled": false
   },
   "outputs": [
    {
     "data": {
      "text/plain": [
       "_merge\n",
       "left_only         0\n",
       "right_only        0\n",
       "both          71845\n",
       "dtype: int64"
      ]
     },
     "execution_count": 12,
     "metadata": {},
     "output_type": "execute_result"
    }
   ],
   "source": [
    "#validate that every record in characters is also in charactersToComics\n",
    "#join on character id\n",
    "join_characters_charactersToComics = pd.merge(characters, charactersToComics, on=\"characterID\",how='outer', indicator=True)\n",
    "#merge status shows every record matched between these two dataframes\n",
    "join_characters_charactersToComics.groupby([\"_merge\"]).size()\n",
    "\n",
    "#one to one relationship"
   ]
  },
  {
   "cell_type": "code",
   "execution_count": 13,
   "metadata": {},
   "outputs": [
    {
     "data": {
      "text/plain": [
       "_merge\n",
       "left_only     16625\n",
       "right_only        0\n",
       "both          71845\n",
       "dtype: int64"
      ]
     },
     "execution_count": 13,
     "metadata": {},
     "output_type": "execute_result"
    }
   ],
   "source": [
    "#validate that every record in comics is also in charactersToComics\n",
    "join_comics_charactersToComics = pd.merge(comics, charactersToComics, on=\"comicID\", how='outer', indicator=True)\n",
    "join_comics_charactersToComics.groupby([\"_merge\"]).size()\n",
    "\n",
    "#charactersToComics contains a subset of records of comics\n",
    "#one to (zero or many) relationship"
   ]
  },
  {
   "cell_type": "code",
   "execution_count": 21,
   "metadata": {},
   "outputs": [
    {
     "data": {
      "text/plain": [
       "_merge\n",
       "left_only     972\n",
       "right_only    413\n",
       "both          199\n",
       "dtype: int64"
      ]
     },
     "execution_count": 21,
     "metadata": {},
     "output_type": "execute_result"
    }
   ],
   "source": [
    "#check characters to charactersStats\n",
    "join_characters_charactersStats = pd.merge(characters, charactersStats, on=\"name\", how='outer', indicator=True)\n",
    "join_characters_charactersStats.groupby([\"_merge\"]).size()\n",
    "#join_characters_charactersStats\n",
    "\n",
    "#simple join on name shows that most cases do not join"
   ]
  },
  {
   "cell_type": "code",
   "execution_count": 22,
   "metadata": {},
   "outputs": [
    {
     "data": {
      "text/plain": [
       "_merge\n",
       "left_only     954\n",
       "right_only    512\n",
       "both          223\n",
       "dtype: int64"
      ]
     },
     "execution_count": 22,
     "metadata": {},
     "output_type": "execute_result"
    }
   ],
   "source": [
    "#check characters to marvelCharactersInfo\n",
    "#by observation, the character table characterID does not tally to the Id of marvel characters info, so join on name\n",
    "join_characters_marvelCharactersInfo = pd.merge(characters, marvelCharactersInfo, on=\"name\", how='outer', indicator=True)\n",
    "join_characters_marvelCharactersInfo.groupby([\"_merge\"]).size()\n",
    "\n",
    "#each contains records that the other doesn't"
   ]
  },
  {
   "cell_type": "code",
   "execution_count": 23,
   "metadata": {
    "scrolled": true
   },
   "outputs": [
    {
     "data": {
      "text/plain": [
       "_merge\n",
       "left_only     135\n",
       "right_only     28\n",
       "both          601\n",
       "dtype: int64"
      ]
     },
     "execution_count": 23,
     "metadata": {},
     "output_type": "execute_result"
    }
   ],
   "source": [
    "#check charactersStats to marvelCharacterInfo\n",
    "join_marvelCharactersInfo_charactersStats = pd.merge(marvelCharactersInfo, charactersStats, on=\"name\", how='outer', indicator=True)\n",
    "join_marvelCharactersInfo_charactersStats.groupby([\"_merge\"]).size()\n",
    "\n",
    "#each contains records that the other doesn't"
   ]
  },
  {
   "cell_type": "code",
   "execution_count": 24,
   "metadata": {},
   "outputs": [
    {
     "data": {
      "text/plain": [
       "_merge\n",
       "left_only     970\n",
       "right_only    468\n",
       "both          200\n",
       "dtype: int64"
      ]
     },
     "execution_count": 24,
     "metadata": {},
     "output_type": "execute_result"
    }
   ],
   "source": [
    "#check characters to superheroesPowerMatrix\n",
    "#by observation, the character table characterID does not tally to the Id of marvel characters info, so join on name\n",
    "join_characters_superheroesPowerMatrix = pd.merge(characters, superheroesPowerMatrix, on=\"name\", how='outer', indicator=True)\n",
    "join_characters_superheroesPowerMatrix.groupby([\"_merge\"]).size()\n",
    "\n",
    "#each contains records that the other doesn't"
   ]
  },
  {
   "cell_type": "code",
   "execution_count": 25,
   "metadata": {},
   "outputs": [
    {
     "data": {
      "text/plain": [
       "_merge\n",
       "left_only     148\n",
       "right_only     91\n",
       "both          520\n",
       "dtype: int64"
      ]
     },
     "execution_count": 25,
     "metadata": {},
     "output_type": "execute_result"
    }
   ],
   "source": [
    "#check superheroesPowerMatrix to characterStats\n",
    "#by observation, the character table characterID does not tally to the Id of marvel characters info, so join on name\n",
    "join_superheroesPowerMatrix_charactersStats = pd.merge(superheroesPowerMatrix, charactersStats , on=\"name\", how='outer', indicator=True)\n",
    "join_superheroesPowerMatrix_charactersStats.groupby([\"_merge\"]).size()\n",
    "\n",
    "#each contains records that the other doesn't"
   ]
  },
  {
   "cell_type": "code",
   "execution_count": 26,
   "metadata": {},
   "outputs": [
    {
     "data": {
      "text/plain": [
       "_merge\n",
       "left_only      24\n",
       "right_only     74\n",
       "both          660\n",
       "dtype: int64"
      ]
     },
     "execution_count": 26,
     "metadata": {},
     "output_type": "execute_result"
    }
   ],
   "source": [
    "#check superheroesPowerMatrix to marvelCharactersInfo\n",
    "#by observation, the character table characterID does not tally to the Id of marvel characters info, so join on name\n",
    "join_superheroesPowerMatrix_marvelCharactersInfo = pd.merge(superheroesPowerMatrix, marvelCharactersInfo , on=\"name\", how='outer', indicator=True)\n",
    "join_superheroesPowerMatrix_marvelCharactersInfo.groupby([\"_merge\"]).size()\n",
    "\n",
    "#each contains records that the other doesn't"
   ]
  }
 ],
 "metadata": {
  "kernelspec": {
   "display_name": "Python 3",
   "language": "python",
   "name": "python3"
  },
  "language_info": {
   "codemirror_mode": {
    "name": "ipython",
    "version": 3
   },
   "file_extension": ".py",
   "mimetype": "text/x-python",
   "name": "python",
   "nbconvert_exporter": "python",
   "pygments_lexer": "ipython3",
   "version": "3.8.5"
  }
 },
 "nbformat": 4,
 "nbformat_minor": 4
}
